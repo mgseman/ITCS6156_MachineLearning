{
 "cells": [
  {
   "cell_type": "raw",
   "metadata": {},
   "source": [
    "Name: "
   ]
  },
  {
   "cell_type": "code",
   "execution_count": 1,
   "metadata": {},
   "outputs": [],
   "source": [
    "import re\n",
    "import pandas as pd;"
   ]
  },
  {
   "cell_type": "code",
   "execution_count": 2,
   "metadata": {},
   "outputs": [],
   "source": [
    "class Node:\n",
    "    \"\"\" Node class for a decision tree. \"\"\"\n",
    "    def __init__(self, names):\n",
    "        self.names = names\n",
    "\n",
    "    def classify(x):\n",
    "        \"\"\" Handled by the subclasses. \"\"\"\n",
    "        return None\n",
    "\n",
    "    def dump(self, indent):\n",
    "        \"\"\" Handled by the subclasses. \"\"\"\n",
    "        return None\n",
    "\n",
    "\n",
    "class Leaf(Node):\n",
    "    def __init__(self, names, value):\n",
    "        Node.__init__(self, names)\n",
    "        self.value = value\n",
    "\n",
    "    def classify(self, x):\n",
    "        return self.value\n",
    "\n",
    "    def dump(self, indent):\n",
    "        print(' %d' % self.value)\n",
    "\n",
    "\n",
    "class Split(Node):\n",
    "    def __init__(self, names, var, left, right):\n",
    "        Node.__init__(self, names)\n",
    "        self.var = var\n",
    "        self.left = left\n",
    "        self.right = right\n",
    "\n",
    "    def classify(self, x):\n",
    "        if x[self.var] == 0:\n",
    "            return self.left.classify(x)\n",
    "        else:\n",
    "            return self.right.classify(x)\n",
    "      \n",
    "    def dump(self, indent):\n",
    "        if indent > 0:\n",
    "            print('')\n",
    "        for i in range(0, indent):\n",
    "            print('| ', end='')\n",
    "        print('%s = 0 :' % self.names[self.var],end='')\n",
    "        self.left.dump(indent+1)\n",
    "        for i in range(0, indent):\n",
    "            print('| ', end='')\n",
    "        print('%s = 1 :' % self.names[self.var],end='')\n",
    "        self.right.dump(indent+1)\n"
   ]
  },
  {
   "cell_type": "markdown",
   "metadata": {},
   "source": [
    "Helper function computes entropy of Bernoulli distribution with parameter p"
   ]
  },
  {
   "cell_type": "code",
   "execution_count": 3,
   "metadata": {},
   "outputs": [],
   "source": [
    "def entropy(p):\n",
    "    # >>>> YOUR CODE GOES HERE <<<<\n",
    "    # For now, always return \"0\":\n",
    "    return 0;\n"
   ]
  },
  {
   "cell_type": "markdown",
   "metadata": {},
   "source": [
    "Compute information gain for a particular split, given the counts \n",
    "\n",
    "py_pxi : number of occurences of y=1 with x_i=1 for all i=1 to n\n",
    "\n",
    "pxi : number of occurrences of x_i=1\n",
    "\n",
    "py : number of ocurrences of y=1\n"
   ]
  },
  {
   "cell_type": "code",
   "execution_count": 4,
   "metadata": {},
   "outputs": [],
   "source": [
    "def infogain(py_pxi, pxi, py, total):\n",
    "    # >>>> YOUR CODE GOES HERE <<<<\n",
    "    # For now, always return \"0\":\n",
    "    return 0;\n"
   ]
  },
  {
   "cell_type": "markdown",
   "metadata": {},
   "source": [
    "OTHER SUGGESTED HELPER FUNCTIONS:\n",
    "\n",
    "-collect counts for each variable value with each class label\n",
    "\n",
    "-find the best variable to split on, according to mutual information\n",
    "\n",
    "-partition data based on a given variable\t\n",
    "\t\n"
   ]
  },
  {
   "cell_type": "code",
   "execution_count": 5,
   "metadata": {},
   "outputs": [],
   "source": [
    "# Load data from a file\n",
    "def read_data(filename):\n",
    "    f = open(filename, 'r')\n",
    "    p = re.compile(',')\n",
    "    data = []\n",
    "    header = f.readline().strip()\n",
    "    varnames = p.split(header)\n",
    "    namehash = {}\n",
    "    for l in f:\n",
    "        data.append([int(x) for x in p.split(l.strip())])\n",
    "    return (data, varnames)\n"
   ]
  },
  {
   "cell_type": "markdown",
   "metadata": {},
   "source": [
    "Build tree in a top-down manner, selecting splits until we hit a pure leaf or all splits look bad.\n"
   ]
  },
  {
   "cell_type": "code",
   "execution_count": 6,
   "metadata": {},
   "outputs": [],
   "source": [
    "def build_tree(data, varnames):\n",
    "    # >>>> YOUR CODE GOES HERE <<<<\n",
    "    # For now, always return a leaf predicting \"1\":\n",
    "    \n",
    "    ## remove this part, it's here only as an example\n",
    "    #random tree\n",
    "    l1 = Leaf(varnames, 0)\n",
    "    r1 = Leaf(varnames, 1)\n",
    "    l0 = Leaf(varnames, 0)\n",
    "    r0 = Split(varnames, 2, l1, r1)\n",
    "    root = Split(varnames, 0 , r0, l1)\n",
    "    root.dump(0)\n",
    "    ####\n",
    "    \n",
    "    return root\n"
   ]
  },
  {
   "cell_type": "markdown",
   "metadata": {},
   "source": [
    "Here we load data.\n",
    "Each example is a list of attribute values, where the last element in the list is the class value.\n"
   ]
  },
  {
   "cell_type": "code",
   "execution_count": 7,
   "metadata": {},
   "outputs": [],
   "source": [
    "agaricus = [\"agaricuslepiotatrain1.csv\",\n",
    "              \"agaricuslepiotatest1.csv\",\n",
    "              \"agaricuslepiotatest1.csv\"]\n",
    "\n",
    "dataset1 = [\"data_sets1/training_set.csv\",\n",
    "            \"data_sets1/validation_set.csv\",\n",
    "            \"data_sets1/test_set.csv\"]\n",
    "            \n",
    "\n",
    "dataset2 = [\"data_sets2/training_set.csv\",\n",
    "            \"data_sets2/validation_set.csv\",\n",
    "            \"data_sets2/test_set.csv\"]\n",
    "\n",
    "# pick the dataset you want to use this time\n",
    "dataset = agaricus\n",
    "\n",
    "(train, varnames) = read_data(dataset[0])\n",
    "(validation, validationvarnames) = read_data(dataset[1]) \n",
    "(test, testvarnames) = read_data(dataset[2]) "
   ]
  },
  {
   "cell_type": "code",
   "execution_count": 8,
   "metadata": {},
   "outputs": [
    {
     "data": {
      "text/html": [
       "<div>\n",
       "<style scoped>\n",
       "    .dataframe tbody tr th:only-of-type {\n",
       "        vertical-align: middle;\n",
       "    }\n",
       "\n",
       "    .dataframe tbody tr th {\n",
       "        vertical-align: top;\n",
       "    }\n",
       "\n",
       "    .dataframe thead th {\n",
       "        text-align: right;\n",
       "    }\n",
       "</style>\n",
       "<table border=\"1\" class=\"dataframe\">\n",
       "  <thead>\n",
       "    <tr style=\"text-align: right;\">\n",
       "      <th></th>\n",
       "      <th>0</th>\n",
       "      <th>1</th>\n",
       "      <th>2</th>\n",
       "      <th>3</th>\n",
       "      <th>4</th>\n",
       "      <th>5</th>\n",
       "      <th>6</th>\n",
       "      <th>7</th>\n",
       "      <th>8</th>\n",
       "      <th>9</th>\n",
       "      <th>...</th>\n",
       "      <th>113</th>\n",
       "      <th>114</th>\n",
       "      <th>115</th>\n",
       "      <th>116</th>\n",
       "      <th>117</th>\n",
       "      <th>118</th>\n",
       "      <th>119</th>\n",
       "      <th>120</th>\n",
       "      <th>121</th>\n",
       "      <th>122</th>\n",
       "    </tr>\n",
       "  </thead>\n",
       "  <tbody>\n",
       "    <tr>\n",
       "      <th>0</th>\n",
       "      <td>0</td>\n",
       "      <td>0</td>\n",
       "      <td>1</td>\n",
       "      <td>0</td>\n",
       "      <td>0</td>\n",
       "      <td>0</td>\n",
       "      <td>0</td>\n",
       "      <td>0</td>\n",
       "      <td>0</td>\n",
       "      <td>1</td>\n",
       "      <td>...</td>\n",
       "      <td>0</td>\n",
       "      <td>0</td>\n",
       "      <td>0</td>\n",
       "      <td>0</td>\n",
       "      <td>0</td>\n",
       "      <td>0</td>\n",
       "      <td>1</td>\n",
       "      <td>0</td>\n",
       "      <td>0</td>\n",
       "      <td>1</td>\n",
       "    </tr>\n",
       "    <tr>\n",
       "      <th>1</th>\n",
       "      <td>0</td>\n",
       "      <td>0</td>\n",
       "      <td>1</td>\n",
       "      <td>0</td>\n",
       "      <td>0</td>\n",
       "      <td>0</td>\n",
       "      <td>0</td>\n",
       "      <td>0</td>\n",
       "      <td>0</td>\n",
       "      <td>1</td>\n",
       "      <td>...</td>\n",
       "      <td>0</td>\n",
       "      <td>0</td>\n",
       "      <td>1</td>\n",
       "      <td>0</td>\n",
       "      <td>0</td>\n",
       "      <td>0</td>\n",
       "      <td>0</td>\n",
       "      <td>0</td>\n",
       "      <td>0</td>\n",
       "      <td>0</td>\n",
       "    </tr>\n",
       "    <tr>\n",
       "      <th>2</th>\n",
       "      <td>1</td>\n",
       "      <td>0</td>\n",
       "      <td>0</td>\n",
       "      <td>0</td>\n",
       "      <td>0</td>\n",
       "      <td>0</td>\n",
       "      <td>0</td>\n",
       "      <td>0</td>\n",
       "      <td>0</td>\n",
       "      <td>1</td>\n",
       "      <td>...</td>\n",
       "      <td>0</td>\n",
       "      <td>0</td>\n",
       "      <td>0</td>\n",
       "      <td>0</td>\n",
       "      <td>1</td>\n",
       "      <td>0</td>\n",
       "      <td>0</td>\n",
       "      <td>0</td>\n",
       "      <td>0</td>\n",
       "      <td>0</td>\n",
       "    </tr>\n",
       "    <tr>\n",
       "      <th>3</th>\n",
       "      <td>0</td>\n",
       "      <td>0</td>\n",
       "      <td>1</td>\n",
       "      <td>0</td>\n",
       "      <td>0</td>\n",
       "      <td>0</td>\n",
       "      <td>0</td>\n",
       "      <td>0</td>\n",
       "      <td>1</td>\n",
       "      <td>0</td>\n",
       "      <td>...</td>\n",
       "      <td>0</td>\n",
       "      <td>0</td>\n",
       "      <td>0</td>\n",
       "      <td>0</td>\n",
       "      <td>0</td>\n",
       "      <td>0</td>\n",
       "      <td>1</td>\n",
       "      <td>0</td>\n",
       "      <td>0</td>\n",
       "      <td>1</td>\n",
       "    </tr>\n",
       "    <tr>\n",
       "      <th>4</th>\n",
       "      <td>0</td>\n",
       "      <td>0</td>\n",
       "      <td>1</td>\n",
       "      <td>0</td>\n",
       "      <td>0</td>\n",
       "      <td>0</td>\n",
       "      <td>0</td>\n",
       "      <td>0</td>\n",
       "      <td>0</td>\n",
       "      <td>1</td>\n",
       "      <td>...</td>\n",
       "      <td>0</td>\n",
       "      <td>0</td>\n",
       "      <td>1</td>\n",
       "      <td>0</td>\n",
       "      <td>0</td>\n",
       "      <td>0</td>\n",
       "      <td>0</td>\n",
       "      <td>0</td>\n",
       "      <td>0</td>\n",
       "      <td>0</td>\n",
       "    </tr>\n",
       "  </tbody>\n",
       "</table>\n",
       "<p>5 rows × 123 columns</p>\n",
       "</div>"
      ],
      "text/plain": [
       "   0    1    2    3    4    5    6    7    8    9    ...  113  114  115  116  \\\n",
       "0    0    0    1    0    0    0    0    0    0    1  ...    0    0    0    0   \n",
       "1    0    0    1    0    0    0    0    0    0    1  ...    0    0    1    0   \n",
       "2    1    0    0    0    0    0    0    0    0    1  ...    0    0    0    0   \n",
       "3    0    0    1    0    0    0    0    0    1    0  ...    0    0    0    0   \n",
       "4    0    0    1    0    0    0    0    0    0    1  ...    0    0    1    0   \n",
       "\n",
       "   117  118  119  120  121  122  \n",
       "0    0    0    1    0    0    1  \n",
       "1    0    0    0    0    0    0  \n",
       "2    1    0    0    0    0    0  \n",
       "3    0    0    1    0    0    1  \n",
       "4    0    0    0    0    0    0  \n",
       "\n",
       "[5 rows x 123 columns]"
      ]
     },
     "execution_count": 8,
     "metadata": {},
     "output_type": "execute_result"
    }
   ],
   "source": [
    "pd.DataFrame(train).head()"
   ]
  },
  {
   "cell_type": "code",
   "execution_count": 9,
   "metadata": {},
   "outputs": [
    {
     "data": {
      "text/plain": [
       "['cap-shape-bell',\n",
       " 'cap-shape-conical',\n",
       " 'cap-shape-convex',\n",
       " 'cap-shape-flat',\n",
       " 'cap-shape-knobbed',\n",
       " 'cap-shape-sunken',\n",
       " 'cap-surface-fibrous',\n",
       " 'cap-surface-grooves',\n",
       " 'cap-surface-scaly',\n",
       " 'cap-surface-smooth',\n",
       " 'cap-color-brown',\n",
       " 'cap-color-buff',\n",
       " 'cap-color-cinnamon',\n",
       " 'cap-color-gray',\n",
       " 'cap-color-green',\n",
       " 'cap-color-pink',\n",
       " 'cap-color-purple',\n",
       " 'cap-color-red',\n",
       " 'cap-color-white',\n",
       " 'cap-color-yellow',\n",
       " 'bruises?-bruises',\n",
       " 'odor-almond',\n",
       " 'odor-anise',\n",
       " 'odor-creosote',\n",
       " 'odor-fishy',\n",
       " 'odor-foul',\n",
       " 'odor-musty',\n",
       " 'odor-none',\n",
       " 'odor-pungent',\n",
       " 'odor-spicy',\n",
       " 'gill-attachment-attached',\n",
       " 'gill-attachment-descending',\n",
       " 'gill-attachment-free',\n",
       " 'gill-attachment-notched',\n",
       " 'gill-spacing-close',\n",
       " 'gill-spacing-crowded',\n",
       " 'gill-spacing-distant',\n",
       " 'gill-size-broad',\n",
       " 'gill-color-black',\n",
       " 'gill-color-brown',\n",
       " 'gill-color-buff',\n",
       " 'gill-color-chocolate',\n",
       " 'gill-color-gray',\n",
       " 'gill-color-green',\n",
       " 'gill-color-orange',\n",
       " 'gill-color-pink',\n",
       " 'gill-color-purple',\n",
       " 'gill-color-red',\n",
       " 'gill-color-white',\n",
       " 'gill-color-yellow',\n",
       " 'stalk-shape-enlarging',\n",
       " 'stalk-root-bulbous',\n",
       " 'stalk-root-club',\n",
       " 'stalk-root-cup',\n",
       " 'stalk-root-equal',\n",
       " 'stalk-root-rhizomorphs',\n",
       " 'stalk-root-rooted',\n",
       " 'stalk-root-missing',\n",
       " 'stalk-surface-above-ring-fibrous',\n",
       " 'stalk-surface-above-ring-scaly',\n",
       " 'stalk-surface-above-ring-silky',\n",
       " 'stalk-surface-above-ring-smooth',\n",
       " 'stalk-surface-below-ring-fibrous',\n",
       " 'stalk-surface-below-ring-scaly',\n",
       " 'stalk-surface-below-ring-silky',\n",
       " 'stalk-surface-below-ring-smooth',\n",
       " 'stalk-color-above-ring-brown',\n",
       " 'stalk-color-above-ring-buff',\n",
       " 'stalk-color-above-ring-cinnamon',\n",
       " 'stalk-color-above-ring-gray',\n",
       " 'stalk-color-above-ring-orange',\n",
       " 'stalk-color-above-ring-pink',\n",
       " 'stalk-color-above-ring-red',\n",
       " 'stalk-color-above-ring-white',\n",
       " 'stalk-color-above-ring-yellow',\n",
       " 'stalk-color-below-ring-brown',\n",
       " 'stalk-color-below-ring-buff',\n",
       " 'stalk-color-below-ring-cinnamon',\n",
       " 'stalk-color-below-ring-gray',\n",
       " 'stalk-color-below-ring-orange',\n",
       " 'stalk-color-below-ring-pink',\n",
       " 'stalk-color-below-ring-red',\n",
       " 'stalk-color-below-ring-white',\n",
       " 'stalk-color-below-ring-yellow',\n",
       " 'veil-type-partial',\n",
       " 'veil-color-brown',\n",
       " 'veil-color-orange',\n",
       " 'veil-color-white',\n",
       " 'veil-color-yellow',\n",
       " 'ring-number-none',\n",
       " 'ring-number-one',\n",
       " 'ring-number-two',\n",
       " 'ring-type-cobwebby',\n",
       " 'ring-type-evanescent',\n",
       " 'ring-type-flaring',\n",
       " 'ring-type-large',\n",
       " 'ring-type-none',\n",
       " 'ring-type-pendant',\n",
       " 'ring-type-sheathing',\n",
       " 'ring-type-zone',\n",
       " 'spore-print-color-black',\n",
       " 'spore-print-color-brown',\n",
       " 'spore-print-color-buff',\n",
       " 'spore-print-color-chocolate',\n",
       " 'spore-print-color-green',\n",
       " 'spore-print-color-orange',\n",
       " 'spore-print-color-purple',\n",
       " 'spore-print-color-white',\n",
       " 'spore-print-color-yellow',\n",
       " 'population-abundant',\n",
       " 'population-clustered',\n",
       " 'population-numerous',\n",
       " 'population-scattered',\n",
       " 'population-several',\n",
       " 'population-solitary',\n",
       " 'habitat-grasses',\n",
       " 'habitat-leaves',\n",
       " 'habitat-meadows',\n",
       " 'habitat-paths',\n",
       " 'habitat-urban',\n",
       " 'habitat-waste',\n",
       " 'habitat-woods',\n",
       " 'poisonous']"
      ]
     },
     "execution_count": 9,
     "metadata": {},
     "output_type": "execute_result"
    }
   ],
   "source": [
    "varnames"
   ]
  },
  {
   "cell_type": "markdown",
   "metadata": {},
   "source": [
    "Build the decision tree"
   ]
  },
  {
   "cell_type": "code",
   "execution_count": 10,
   "metadata": {},
   "outputs": [
    {
     "name": "stdout",
     "output_type": "stream",
     "text": [
      "cap-shape-bell = 0 :\n",
      "| cap-shape-convex = 0 : 0\n",
      "| cap-shape-convex = 1 : 1\n",
      "cap-shape-bell = 1 : 0\n"
     ]
    }
   ],
   "source": [
    "root = build_tree(train, varnames)"
   ]
  },
  {
   "cell_type": "raw",
   "metadata": {},
   "source": [
    "Draw the tree.\n",
    "\n",
    "\n",
    "Sample more for mushroom:\n",
    "odor-foul = 0 :\n",
    "| gill-size-narrow = 0 :\n",
    "| | spore-print-color-green = 0 : 0\n",
    "| | spore-print-color-green = 1 : 1\n",
    "| gill-size-narrow = 1 :\n",
    "| | odor-none = 0 :\n",
    "| | | gill-spacing-close = 0 :\n",
    "| | | | bruises?-bruises = 0 : 1\n",
    "| | | | bruises?-bruises = 1 : 0\n",
    "| | | gill-spacing-close = 1 : 1\n",
    "| | odor-none = 1 :\n",
    "| | | stalk-surface-above-ring-silky = 0 :\n",
    "| | | | bruises?-bruises = 0 : 0\n",
    "| | | | bruises?-bruises = 1 : 1\n",
    "| | | stalk-surface-above-ring-silky = 1 : 1\n",
    "odor-foul = 1 : 1\n",
    "\n",
    "According to this model if odor-foul is 0 and gill-size-narrow = 0 and spore-print-color-green is 1 then predicted class is one."
   ]
  },
  {
   "cell_type": "code",
   "execution_count": 11,
   "metadata": {},
   "outputs": [
    {
     "name": "stdout",
     "output_type": "stream",
     "text": [
      "cap-shape-bell = 0 :\n",
      "| cap-shape-convex = 0 : 0\n",
      "| cap-shape-convex = 1 : 1\n",
      "cap-shape-bell = 1 : 0\n"
     ]
    }
   ],
   "source": [
    "root.dump(0)\n",
    "\n"
   ]
  },
  {
   "cell_type": "markdown",
   "metadata": {},
   "source": [
    "Calcuating the accuracy"
   ]
  },
  {
   "cell_type": "code",
   "execution_count": 12,
   "metadata": {},
   "outputs": [],
   "source": [
    "def accuracy(data):\n",
    "    correct = 0\n",
    "    # The position of the class label is the last element in the list.\n",
    "    yi = len(data[0]) - 1\n",
    "    for x in data:\n",
    "    # Classification is done recursively by the node class.\n",
    "    # This should work as-is.\n",
    "        pred = root.classify(x)\n",
    "        if pred == x[yi]:\n",
    "            correct += 1\n",
    "        acc = float(correct)/len(data)\n",
    "    return acc;\n",
    "   "
   ]
  },
  {
   "cell_type": "code",
   "execution_count": 13,
   "metadata": {},
   "outputs": [
    {
     "name": "stdout",
     "output_type": "stream",
     "text": [
      "Train Accuracy: 0.532\n"
     ]
    }
   ],
   "source": [
    " print(\"Train Accuracy: {}\".format(accuracy(train)))"
   ]
  },
  {
   "cell_type": "code",
   "execution_count": 14,
   "metadata": {},
   "outputs": [
    {
     "name": "stdout",
     "output_type": "stream",
     "text": [
      "Test Accuracy: 0.36517647058823527\n"
     ]
    }
   ],
   "source": [
    " print(\"Test Accuracy: {}\".format(accuracy(test)))"
   ]
  },
  {
   "cell_type": "code",
   "execution_count": null,
   "metadata": {},
   "outputs": [],
   "source": []
  }
 ],
 "metadata": {
  "kernelspec": {
   "display_name": "Python 3 (ipykernel)",
   "language": "python",
   "name": "python3"
  },
  "language_info": {
   "codemirror_mode": {
    "name": "ipython",
    "version": 3
   },
   "file_extension": ".py",
   "mimetype": "text/x-python",
   "name": "python",
   "nbconvert_exporter": "python",
   "pygments_lexer": "ipython3",
   "version": "3.9.7"
  }
 },
 "nbformat": 4,
 "nbformat_minor": 4
}
