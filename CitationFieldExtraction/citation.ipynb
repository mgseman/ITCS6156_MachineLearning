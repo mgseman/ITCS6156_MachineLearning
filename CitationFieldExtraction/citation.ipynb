{
 "cells": [
  {
   "cell_type": "markdown",
   "metadata": {
    "id": "ZECBpTKulskT"
   },
   "source": [
    "Name:"
   ]
  },
  {
   "cell_type": "code",
   "execution_count": 1,
   "metadata": {
    "colab": {
     "base_uri": "https://localhost:8080/"
    },
    "id": "rZQURFk6WsgT",
    "outputId": "7adbe458-c68b-4521-8730-6c71f4580438"
   },
   "outputs": [
    {
     "ename": "ModuleNotFoundError",
     "evalue": "No module named 'google.colab'",
     "output_type": "error",
     "traceback": [
      "\u001b[1;31m---------------------------------------------------------------------------\u001b[0m",
      "\u001b[1;31mModuleNotFoundError\u001b[0m                       Traceback (most recent call last)",
      "\u001b[1;32m~\\AppData\\Local\\Temp/ipykernel_12272/1050275017.py\u001b[0m in \u001b[0;36m<module>\u001b[1;34m\u001b[0m\n\u001b[1;32m----> 1\u001b[1;33m \u001b[1;32mfrom\u001b[0m \u001b[0mgoogle\u001b[0m\u001b[1;33m.\u001b[0m\u001b[0mcolab\u001b[0m \u001b[1;32mimport\u001b[0m \u001b[0mdrive\u001b[0m\u001b[1;33m\u001b[0m\u001b[1;33m\u001b[0m\u001b[0m\n\u001b[0m\u001b[0;32m      2\u001b[0m \u001b[0mdrive\u001b[0m\u001b[1;33m.\u001b[0m\u001b[0mmount\u001b[0m\u001b[1;33m(\u001b[0m\u001b[1;34m'/content/gdrive'\u001b[0m\u001b[1;33m)\u001b[0m\u001b[1;33m\u001b[0m\u001b[1;33m\u001b[0m\u001b[0m\n",
      "\u001b[1;31mModuleNotFoundError\u001b[0m: No module named 'google.colab'"
     ]
    }
   ],
   "source": [
    "from google.colab import drive\n",
    "drive.mount('/content/gdrive')"
   ]
  },
  {
   "cell_type": "code",
   "execution_count": null,
   "metadata": {
    "id": "AmpvFq9NahJ3"
   },
   "outputs": [],
   "source": [
    "import pickle\n",
    "import numpy as np\n",
    "import tensorflow as tf\n",
    "from tensorflow import keras\n",
    "from tensorflow.keras import layers"
   ]
  },
  {
   "cell_type": "code",
   "execution_count": null,
   "metadata": {
    "id": "ov7317d8axoS"
   },
   "outputs": [],
   "source": [
    "CORA='/content/gdrive/MyDrive/CORA/'\n",
    "\n",
    "with open(CORA + 'vocab-lower.pickle', 'rb') as f:\n",
    "    #vocab dic is list of all words in the dictionery\n",
    "    vocab_dic = list(map(lambda x: x.decode('utf-8'), pickle.load(f, encoding='utf-8')))\n",
    "\n",
    "\n",
    "with open(CORA + 'vocab_labels.pickle', 'rb') as f:\n",
    "    #The list of possible labels \n",
    "    label_dic = list(map(lambda x: x.decode('utf-8'), pickle.load(f, encoding='bytes')))\n",
    "    \n",
    "with open(CORA + 'trained_embedding.pickle', 'rb') as f:\n",
    "    #The trained embedding on Wikipedia using GLOVE algorithm \n",
    "    #Each column is the embedding of a word (with respect to the vocab dictionary) \n",
    "    embedding = pickle.load(f, encoding='bytes')\n",
    "    vocabulary_size = 20608\n",
    "    embedding_size = 100\n",
    "\n",
    "\n",
    "with open(CORA + 'xdata-lower.pickle', 'rb') as f:\n",
    "    #Each row is a citation. Each cell is the token id (with respect to the vocab dictionary) within the citation.\n",
    "    xdata = pickle.load(f, encoding='bytes')\n",
    "\n",
    "with open(CORA + 'Y_train.pickle', 'rb') as f:\n",
    "    ydata = pickle.load(f, encoding='bytes')\n",
    "\n",
    "with open(CORA + 'xval-lower.pickle', 'rb') as f:\n",
    "    xval = pickle.load(f, encoding='bytes')\n",
    "\n",
    "with open(CORA + 'Y_dev.pickle', 'rb') as f:\n",
    "    yval = pickle.load(f, encoding='bytes')\n",
    "\n",
    "with open(CORA + 'xtest-lower.pickle', 'rb') as f:\n",
    "    xtest = pickle.load(f, encoding='bytes')\n",
    "\n",
    "with open(CORA + 'Y_test.pickle', 'rb') as f:\n",
    "    ytest = pickle.load(f, encoding='bytes')\n",
    "\n",
    "\n",
    "\n"
   ]
  },
  {
   "cell_type": "code",
   "execution_count": null,
   "metadata": {
    "colab": {
     "base_uri": "https://localhost:8080/"
    },
    "id": "tTXl5Ob2bQtC",
    "outputId": "80dc23a6-7803-4e40-8fd3-bc61761ba976"
   },
   "outputs": [],
   "source": [
    "\n",
    "print(\"vocab size:\", len(vocab_dic))\n",
    "print(vocab_dic[100], vocab_dic[200])"
   ]
  },
  {
   "cell_type": "code",
   "execution_count": null,
   "metadata": {
    "id": "9Z09S8ClbVvw"
   },
   "outputs": [],
   "source": [
    "def cosine_similarity(v1, v2):\n",
    "  norm_v1 = np.linalg.norm(v1)\n",
    "  norm_v2 = np.linalg.norm(v2)\n",
    "  return np.dot(v1,v2)/(norm_v1*norm_v2)"
   ]
  },
  {
   "cell_type": "code",
   "execution_count": null,
   "metadata": {
    "id": "KGKg5ll-cU4O"
   },
   "outputs": [],
   "source": [
    "v1_id = vocab_dic.index('positive')\n",
    "v2_id = vocab_dic.index('constructive')\n",
    "v3_id = vocab_dic.index('conference')\n",
    "\n",
    "v1_vec = embedding[v1_id]\n",
    "v2_vec = embedding[v2_id]\n",
    "v3_vec = embedding[v3_id]\n"
   ]
  },
  {
   "cell_type": "code",
   "execution_count": null,
   "metadata": {
    "colab": {
     "base_uri": "https://localhost:8080/"
    },
    "id": "NmLEhiIxc7FO",
    "outputId": "ea4aed65-bd99-4176-b763-70fde795ef75"
   },
   "outputs": [],
   "source": [
    "cosine_similarity(v1_vec,v2_vec)"
   ]
  },
  {
   "cell_type": "code",
   "execution_count": null,
   "metadata": {
    "colab": {
     "base_uri": "https://localhost:8080/"
    },
    "id": "Rx5u_An5eMTp",
    "outputId": "e8634789-db63-40c1-dc2e-2877f9d7fdae"
   },
   "outputs": [],
   "source": [
    "cosine_similarity(v1_vec, v3_vec)"
   ]
  },
  {
   "cell_type": "code",
   "execution_count": null,
   "metadata": {
    "colab": {
     "base_uri": "https://localhost:8080/"
    },
    "id": "LnxWHKR0ePbV",
    "outputId": "a2887935-e503-4915-e2d3-9e43fd1583aa"
   },
   "outputs": [],
   "source": [
    "#construct the sentence\n",
    "print(xdata[1])\n",
    "#each cell is the token id and 0 means padding.\n"
   ]
  },
  {
   "cell_type": "code",
   "execution_count": null,
   "metadata": {
    "id": "KPfk5QVjebKo"
   },
   "outputs": [],
   "source": [
    "def get_sentence(x):\n",
    "  x_nopad = list(filter(lambda i: True if i > 0 else False, x))\n",
    "  return ' '.join([vocab_dic[id] for id in x_nopad])\n",
    "\n",
    "def get_label(y):\n",
    "  y_nopad = list(filter(lambda i: True if i > 0 else False, y))\n",
    "  return ' '.join([label_dic[id] for id in y_nopad])\n",
    "\n",
    "def print_sentence_label_pair(x, y):\n",
    "  x_nopad = list(filter(lambda i: True if i > 0 else False, x))\n",
    "  y_nopad = list(filter(lambda i: True if i > 0 else False, y))\n",
    "  for i in range(len(x_nopad)):\n",
    "    print(label_dic[y_nopad[i]],'\\t\\t' ,vocab_dic[x_nopad[i]],)\n",
    "\n",
    "def print_sentence_pred_label(x, y, yt):\n",
    "  x_nopad = list(filter(lambda i: True if i > 0 else False, x))\n",
    "  for i in range(len(x_nopad)):\n",
    "    print(label_dic[yt[i]], label_dic[y[i]],'\\t\\t'  ,vocab_dic[x_nopad[i]],)\n"
   ]
  },
  {
   "cell_type": "code",
   "execution_count": null,
   "metadata": {
    "colab": {
     "base_uri": "https://localhost:8080/"
    },
    "id": "sl8DO5jJgB68",
    "outputId": "7f4503b6-bca9-478a-c9f4-204e6d51a69e"
   },
   "outputs": [],
   "source": [
    "print_sentence_label_pair(xdata[10], ydata[10])\n",
    "# print(get_sentence(xdata[10]))\n",
    "# print(get_label(ydata[10]))"
   ]
  },
  {
   "cell_type": "code",
   "execution_count": null,
   "metadata": {
    "id": "nbU7C7R1RMb4"
   },
   "outputs": [],
   "source": [
    "#calucate the hamming loss between gold data and predication\n",
    "def token_level_loss(cpred, ctrue):\n",
    "  try:\n",
    "    label_num = np.shape(cpred)[1]\n",
    "    pred = cpred.astype(np.int)\n",
    "    true = ctrue.astype(np.int)\n",
    "    n1 = len(pred)\n",
    "    n2 = len(true)\n",
    "    assert n1 == n2\n",
    "    hloss = 0.0\n",
    "    exact_acc = 0.0\n",
    "    for i in range(n1):\n",
    "      sample_loss = 0.0\n",
    "      exact = 0.0\n",
    "      xp = pred[i]\n",
    "      xt = true[i]\n",
    "      cnp = 0\n",
    "      for j in range(label_num):\n",
    "        if (xt[j] == 0):\n",
    "          continue\n",
    "        cnp+=1\n",
    "        if xp[j] != xt[j]:\n",
    "          sample_loss += 1.0\n",
    "        else:\n",
    "          exact +=1\n",
    "      sample_loss = sample_loss / cnp\n",
    "      exact = exact / cnp\n",
    "      hloss += sample_loss\n",
    "      exact_acc += exact\n",
    "    return (hloss / n1, exact_acc / n1)\n",
    "  except Warning:\n",
    "    return (0.0,0.0);\n",
    "\n",
    "def perf(ytr_pred, yval_pred, yts_pred, ydata, yval, ytest):\n",
    "    global best_val\n",
    "    global test_val\n",
    "\n",
    "    hm_ts, ex_ts = token_level_loss(yts_pred, ytest)\n",
    "    hm_tr, ex_tr = token_level_loss(ytr_pred, ydata)\n",
    "    hm_val, ex_val = token_level_loss(yval_pred, yval)\n",
    "    if ex_val > best_val:\n",
    "        best_val = ex_val\n",
    "        test_val = ex_ts\n",
    "    return (\"Train: %0.3f Val: %0.3f Test: %0.3f -- Best Val: %0.3f Test: %0.3f\" % (ex_tr, ex_val, ex_ts, best_val, test_val))"
   ]
  },
  {
   "cell_type": "code",
   "execution_count": null,
   "metadata": {
    "id": "JSRNVhcugZZv"
   },
   "outputs": [],
   "source": [
    "output_size = len(label_dic)\n",
    "max_length_output = 118\n",
    "class CitationNetwork(tf.keras.Model):\n",
    "  def __init__(self, network_type = 'SimpleLSTM'):\n",
    "      super(CitationNetwork, self).__init__()\n",
    "\n",
    "      self.optimizer = tf.keras.optimizers.Adam(1e-5)\n",
    "      self.embedding = layers.Embedding(input_dim=vocabulary_size+1, output_dim=embedding_size,  mask_zero=True)\n",
    "      self.rnn = layers.LSTM(128, return_sequences=True, return_state=True)\n",
    "\n",
    "      self.fc = layers.Dense(output_size)\n",
    "  \n",
    " \n",
    "  def call(self, x, predict=True):\n",
    "      emb = self.embedding(x)\n",
    "      output, _ , _ = self.rnn(emb)\n",
    "      output = self.fc(output)\n",
    "      if predict:\n",
    "        return tf.math.argmax(output, axis=-1)\n",
    "      return output\n",
    "  \n",
    "  def get_loss(self, ylogits, yt):\n",
    "    ylabels = tf.one_hot(ybatch, output_size)\n",
    "    cross_ent = tf.nn.softmax_cross_entropy_with_logits(logits=ylogits, labels=ylabels);\n",
    "    return tf.reduce_sum(cross_ent)\n",
    "\n",
    "@tf.function\n",
    "def train_step(xbatch, ybatch):\n",
    "    loss = 0\n",
    "    with tf.GradientTape() as tape:\n",
    "        prediction = cite(xbatch, False)\n",
    "        loss = cite.get_loss(prediction, ybatch)\n",
    "        \n",
    "    gradients = tape.gradient(loss, cite.trainable_variables)\n",
    "    cite.optimizer.apply_gradients(zip(gradients, cite.trainable_variables))\n",
    "    return loss\n",
    "\n",
    "cite = CitationNetwork();\n",
    "\n",
    "        "
   ]
  },
  {
   "cell_type": "code",
   "execution_count": null,
   "metadata": {
    "colab": {
     "base_uri": "https://localhost:8080/",
     "height": 1000
    },
    "id": "_2HngfD8jrBE",
    "outputId": "aadc49dd-c132-46e5-b145-eadea2c78998"
   },
   "outputs": [],
   "source": [
    "train_size = xdata.shape[0]\n",
    "batch_size = 10\n",
    "train_dataset = (tf.data.Dataset.from_tensor_slices(np.hstack((xdata, ydata)))\n",
    "                 .shuffle(train_size).batch(batch_size))\n",
    "# print(xdata.shape)\n",
    "num_epoch = 1000\n",
    "i = 0;\n",
    "best_val = 0\n",
    "test_val = 0\n",
    "\n",
    "while i < num_epoch:\n",
    "  loss = 0;\n",
    "  for batch in train_dataset:\n",
    "    xbatch = batch[:, :max_length_output]\n",
    "    ybatch = batch[:, max_length_output:]\n",
    "    loss += train_step(xbatch, ybatch)\n",
    "\n",
    "  ypred_test = cite(xtest, predict=True).numpy()\n",
    "  ypred_val = cite(xval, predict=True).numpy()\n",
    "  ypred_train = cite(xdata, predict=True).numpy()\n",
    "  print(i, loss.numpy(), perf(ypred_train, ypred_val, ypred_test, ydata, yval, ytest) )\n",
    "  i = i+1\n",
    "  # break"
   ]
  },
  {
   "cell_type": "code",
   "execution_count": null,
   "metadata": {
    "id": "W-B4QrYhOy9u"
   },
   "outputs": [],
   "source": []
  },
  {
   "cell_type": "code",
   "execution_count": null,
   "metadata": {
    "colab": {
     "base_uri": "https://localhost:8080/"
    },
    "id": "PDwot8oPMYpT",
    "outputId": "8a535670-9356-4b82-a919-250f87832d00"
   },
   "outputs": [],
   "source": [
    "print_sentence_pred_label(xtest[1], ydata[1], ytest[1])"
   ]
  },
  {
   "cell_type": "code",
   "execution_count": null,
   "metadata": {},
   "outputs": [],
   "source": []
  }
 ],
 "metadata": {
  "colab": {
   "collapsed_sections": [],
   "name": "citation.ipynb",
   "provenance": []
  },
  "kernelspec": {
   "display_name": "Python 3 (ipykernel)",
   "language": "python",
   "name": "python3"
  },
  "language_info": {
   "codemirror_mode": {
    "name": "ipython",
    "version": 3
   },
   "file_extension": ".py",
   "mimetype": "text/x-python",
   "name": "python",
   "nbconvert_exporter": "python",
   "pygments_lexer": "ipython3",
   "version": "3.9.7"
  }
 },
 "nbformat": 4,
 "nbformat_minor": 4
}
