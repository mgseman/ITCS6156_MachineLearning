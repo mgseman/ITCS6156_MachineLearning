{
 "cells": [
  {
   "cell_type": "markdown",
   "metadata": {
    "colab": {
     "base_uri": "https://localhost:8080/",
     "height": 34
    },
    "id": "GD2qeSjXusT6",
    "outputId": "e4775498-d38a-4071-b5bb-f23a8e3f2ef4"
   },
   "source": [
    "Name:Matthew Seman"
   ]
  },
  {
   "cell_type": "code",
   "execution_count": 1,
   "metadata": {
    "id": "lCWOiVlevMg1"
   },
   "outputs": [],
   "source": [
    "%matplotlib inline\n",
    "import cv2\n",
    "import numpy as np\n",
    "import matplotlib.pyplot as plt\n",
    "from matplotlib import style\n",
    "style.use('ggplot')\n",
    "from IPython import display\n",
    "import pandas as pd\n",
    "import tensorflow as tf"
   ]
  },
  {
   "cell_type": "code",
   "execution_count": 2,
   "metadata": {
    "id": "QgPkJt9Bux-J"
   },
   "outputs": [],
   "source": [
    "\n",
    "## helper funciton for loading the horses data\n",
    "#make sure the horses data is in the same directory as the notebook\n",
    "#do not change this function\n",
    "def load_horses_orig(path, image_size):   \n",
    "    mask_path = path + 'masks/'\n",
    "    image_path = path + 'images/'\n",
    "    images = []\n",
    "    masks = []\n",
    "    test_images= []\n",
    "    test_masks =[]\n",
    "    for i in range(328):\n",
    "        \n",
    "        orig_im = cv2.imread(image_path + 'image-{}.png'.format(i))\n",
    "        orig_im= cv2.cvtColor(orig_im, cv2.COLOR_RGB2BGR)\n",
    "        \n",
    "        low_im = cv2.resize(orig_im, dsize=(image_size, image_size))\n",
    "\n",
    "        orig_mask = cv2.imread(mask_path + 'mask-{}.png'.format(i))\n",
    "        low_mask = cv2.resize(orig_mask, dsize=(image_size, image_size))\n",
    "        low_mask = cv2.cvtColor(low_mask, cv2.COLOR_RGB2GRAY)\n",
    "        bin_mask = (low_mask > 0) + 0\n",
    "        \n",
    "    \n",
    "        images.append(low_im)\n",
    "        masks.append(bin_mask)\n",
    "\n",
    "\n",
    "    xtest = np.reshape(np.array(images[250:]), (-1,image_size*image_size*3))\n",
    "    ytest = np.reshape(np.array(masks[250:]), (-1, image_size * image_size))\n",
    "    xdata = np.reshape(np.array(images[:200]), (-1,image_size*image_size*3))\n",
    "    ydata = np.reshape(np.array(masks[:200]), (-1, image_size * image_size))\n",
    "    yval =  np.reshape(np.array(masks[200:250]), (-1, image_size * image_size))\n",
    "    xval = np.reshape(np.array(images[200:250]), (-1,image_size*image_size*3))\n",
    "\n",
    "\n",
    "    return xdata, xval, xtest, ydata, yval, ytest\n"
   ]
  },
  {
   "cell_type": "code",
   "execution_count": 3,
   "metadata": {
    "id": "ziLhzr0SvHS2"
   },
   "outputs": [],
   "source": [
    "#change the path address if put the data somewhere else\n",
    "path = './horses/'\n",
    "image_size = 32;\n",
    "xdata, xval, xtest, ydata, yval, ytest = load_horses_orig(path, image_size)"
   ]
  },
  {
   "cell_type": "code",
   "execution_count": 4,
   "metadata": {
    "id": "fYU3V-_O7TZV"
   },
   "outputs": [],
   "source": [
    "#helper function to drawing horse and its mask\n",
    "def draw(image, mask):\n",
    "    fig, (ax1,ax2) = plt.subplots(1,2) \n",
    "    ax1.axis('off')\n",
    "    ax2.axis('off')\n",
    "    ax1.imshow(np.reshape(image, (image_size,image_size,3)))\n",
    "    ax2.imshow(np.reshape(mask, (image_size,image_size)), cmap=plt.cm.gray)\n",
    "    plt.show()"
   ]
  },
  {
   "cell_type": "markdown",
   "metadata": {},
   "source": [
    "The task is to predict the mask for the horse given the image\n",
    "Mask is binary image shows the presence of the horse."
   ]
  },
  {
   "cell_type": "code",
   "execution_count": 5,
   "metadata": {
    "colab": {
     "base_uri": "https://localhost:8080/",
     "height": 183
    },
    "id": "lzdIqN66Xt7s",
    "outputId": "c20022ca-39e3-4f34-abc7-0991f4724828"
   },
   "outputs": [
    {
     "data": {
      "image/png": "[encoded data removed]",
      "text/plain": [
       "<Figure size 432x288 with 2 Axes>"
      ]
     },
     "metadata": {},
     "output_type": "display_data"
    }
   ],
   "source": [
    " draw(xdata[0], ydata[0])"
   ]
  },
  {
   "cell_type": "code",
   "execution_count": 6,
   "metadata": {
    "id": "Pvsy2ImHu1Id"
   },
   "outputs": [],
   "source": [
    "train_size = xdata.shape[0]\n",
    "batch_size = 10\n",
    "train_dataset = (tf.data.Dataset.from_tensor_slices(np.hstack((xdata, ydata)))\n",
    "                 .shuffle(train_size).batch(batch_size))"
   ]
  },
  {
   "cell_type": "markdown",
   "metadata": {
    "id": "HaqQBZhtYEtn"
   },
   "source": [
    "The intersection over union (IOU) is a metric for measuring the performance of image segmentation. The perfect segmentation receives IOU of one."
   ]
  },
  {
   "cell_type": "code",
   "execution_count": 7,
   "metadata": {
    "id": "qYv6okdsy0Th"
   },
   "outputs": [],
   "source": [
    "# Do not change this cell\n",
    "def iou(ytrue, yprediction):\n",
    "    yp = yprediction\n",
    "    yt = ytrue\n",
    "    yp = yp > 0.5 + 0\n",
    "    intersect = np.sum(np.minimum(yp, yt),1)\n",
    "    union = np.sum(np.maximum(yp, yt),1)\n",
    "    return np.average(intersect / (union+0.0))\n",
    "        "
   ]
  },
  {
   "cell_type": "code",
   "execution_count": 8,
   "metadata": {
    "id": "xg72JBIOzG4B"
   },
   "outputs": [],
   "source": [
    "assert iou(ydata, ydata) == 1.0"
   ]
  },
  {
   "cell_type": "markdown",
   "metadata": {
    "id": "GupMJR57YnWt"
   },
   "source": [
    "We can use feedforwad MLP or CNN  model for image segmentation. Here the input is the image and the output is the segmentation mask."
   ]
  },
  {
   "cell_type": "code",
   "execution_count": 9,
   "metadata": {
    "id": "3J_2HkPszjcr"
   },
   "outputs": [],
   "source": [
    "class NeuralNet(tf.keras.Model):\n",
    "    \n",
    "    def construct_CNN(self):\n",
    "        # COMPLETE ME\n",
    "        self.model = tf.keras.Sequential(\n",
    "            [\n",
    "                tf.keras.layers.Conv2D(32, kernel_size=3, activation='relu', padding='same', input_shape=(image_size, image_size, 3)),\n",
    "                tf.keras.layers.BatchNormalization(),\n",
    "                tf.keras.layers.MaxPooling2D((2,2)),\n",
    "                tf.keras.layers.Conv2D(32, kernel_size=3, activation='relu', padding='same'),\n",
    "                tf.keras.layers.BatchNormalization(),\n",
    "                tf.keras.layers.Conv2D(32, kernel_size=3, activation='relu', padding='same'),\n",
    "                tf.keras.layers.BatchNormalization(),\n",
    "                tf.keras.layers.MaxPooling2D((2,2)),\n",
    "                tf.keras.layers.Conv2D(32, kernel_size=3, activation='relu', padding='same'),\n",
    "                tf.keras.layers.BatchNormalization(),\n",
    "                tf.keras.layers.Conv2D(32, kernel_size=3, activation='relu', padding='same'),\n",
    "                tf.keras.layers.BatchNormalization(),\n",
    "                tf.keras.layers.Conv2D(32, kernel_size=3, activation='relu', padding='same'),\n",
    "                tf.keras.layers.BatchNormalization(),\n",
    "                tf.keras.layers.MaxPooling2D((2,2)),\n",
    "                tf.keras.layers.Dense(4, activation='relu'),\n",
    "                tf.keras.layers.Dense(4, activation='relu'),\n",
    "                tf.keras.layers.UpSampling2D((2,2)),\n",
    "                tf.keras.layers.Conv2DTranspose(32, kernel_size=3, activation='relu', padding='same'),\n",
    "                tf.keras.layers.BatchNormalization(),\n",
    "                tf.keras.layers.Conv2DTranspose(32, kernel_size=3, activation='relu', padding='same'),\n",
    "                tf.keras.layers.BatchNormalization(),\n",
    "                tf.keras.layers.Conv2DTranspose(32, kernel_size=3, activation='relu', padding='same'),\n",
    "                tf.keras.layers.BatchNormalization(),\n",
    "                tf.keras.layers.UpSampling2D((2,2)),\n",
    "                tf.keras.layers.Conv2DTranspose(32, kernel_size=3, activation='relu', padding='same'),\n",
    "                tf.keras.layers.BatchNormalization(),\n",
    "                tf.keras.layers.Conv2DTranspose(32, kernel_size=3, activation='relu', padding='same'),\n",
    "                tf.keras.layers.BatchNormalization(),\n",
    "                tf.keras.layers.UpSampling2D((2,2)),\n",
    "                tf.keras.layers.Flatten(),\n",
    "                tf.keras.layers.Dense(128, activation='relu'),\n",
    "                tf.keras.layers.Dropout(.2),\n",
    "                tf.keras.layers.Dense(image_size*image_size)\n",
    "                \n",
    "            ]\n",
    "         )\n",
    "        pass\n",
    "\n",
    "    \n",
    "    def construct_MLP(self):\n",
    "         self.model = tf.keras.Sequential(\n",
    "            [\n",
    "                tf.keras.layers.InputLayer(input_shape=(image_size, image_size, 3), dtype='float32'),\n",
    "                tf.keras.layers.Flatten(),\n",
    "                tf.keras.layers.Dense(500, activation='relu'),\n",
    "                tf.keras.layers.Dropout(.2, input_shape=(500,)),\n",
    "                tf.keras.layers.Dense(20, activation='relu'),\n",
    "                tf.keras.layers.Dense(image_size*image_size)\n",
    "            ]\n",
    "         )\n",
    "    \n",
    "    \n",
    "    def __init__(self, network_type = 'MLP'):\n",
    "        super(NeuralNet, self).__init__()\n",
    "        #DOCUMENT ME\n",
    "        #SGD is a stochastic gradient descent optimizer that also allows for use of momentum\n",
    "        #momentum is a smoothing hyperparameter to increase descents and dampen oscillation(Set to zero in regular gradient descent)\n",
    "        \n",
    "        #self.optimizer = tf.keras.optimizers.SGD(0.1)\n",
    "        \n",
    "        #What are the other available optimizers\n",
    "        \n",
    "        #Reduced Learning rate on Adam optimizer gives best performance with current CNN model\n",
    "        self.optimizer = tf.keras.optimizers.Adam(0.001)\n",
    "        \n",
    "        #Test your code with different optimizers\n",
    "        \n",
    "\n",
    "        \n",
    "        \n",
    "        if network_type == 'MLP':\n",
    "            self.construct_MLP();\n",
    "        else:\n",
    "            self.construct_CNN();\n",
    "        \n",
    "\n",
    "    #DOCUMENT ME\n",
    "    #Defines the forward prediction for the model in which the sigmoid of x is taken using low level tensorflow function\n",
    "    def forward(self, x, predict=True):\n",
    "        if predict:\n",
    "            return tf.nn.sigmoid(self.model(x))\n",
    "        return self.model(x)\n",
    "  \n",
    "    def get_loss(self, x, yt):\n",
    "        x = tf.reshape(x, (-1, image_size, image_size, 3))\n",
    "        yt = tf.reshape(yt, (-1, image_size * image_size))\n",
    "        ylogits = self.forward(x, predict=False);\n",
    "        \n",
    "        #DOCUMENT ME\n",
    "        #What is the difference of sigmoid_cross_entropy_with_logits and sigmoid_cross_entropy?\n",
    "        #sigmoid cross entropy with logits uses logits(log-odds function) and labels of y data to compute logistic loss\n",
    "        cross_ent = tf.nn.sigmoid_cross_entropy_with_logits(logits=ylogits, labels=yt);\n",
    "        \n",
    "        \n",
    "        return tf.reduce_sum(cross_ent)\n",
    "  \n",
    "   \n",
    "    def train_step(self, xbatch,ybatch):\n",
    "        \n",
    "        #DOCUMENT ME\n",
    "        #GradientTape() watches variables within its context, in this case loss, and records gradients calculated\n",
    "        #Used for automatic differentiation\n",
    "        with tf.GradientTape() as tape:\n",
    "            loss = self.get_loss(xbatch, ybatch)\n",
    "        #DOCUMENT ME\n",
    "        #Calculate the gradient of the target variable from the GradientTape, in this case loss. Store in gradients\n",
    "        gradients = tape.gradient(loss, model.trainable_variables)\n",
    "        \n",
    "        #DOCUMENT ME\n",
    "        #apply_gradients applies gradient descent and updates the weights of the model\n",
    "        self.optimizer.apply_gradients(zip(gradients, model.trainable_variables))\n",
    "        return tf.reduce_sum(loss)\n",
    "\n",
    "    def predict(self, x):\n",
    "        y = self.forward(x, predict=True)\n",
    "        return y.numpy() #tf.reshape(y, (-1, image_size, image_size)).numpy()\n"
   ]
  },
  {
   "cell_type": "code",
   "execution_count": 10,
   "metadata": {
    "id": "SRclkbJiw42K",
    "tags": []
   },
   "outputs": [],
   "source": [
    "model = NeuralNet('CNN')\n",
    "#model = NeuralNet('MLP')\n",
    "train_iou = []\n",
    "val_iou = []\n",
    "test_iou = []\n",
    "epoch = 1;\n",
    "best_val_iou = -1;\n",
    "best_test_iou = -1"
   ]
  },
  {
   "cell_type": "code",
   "execution_count": 11,
   "metadata": {},
   "outputs": [
    {
     "name": "stdout",
     "output_type": "stream",
     "text": [
      "Model: \"sequential_1\"\n",
      "_________________________________________________________________\n",
      " Layer (type)                Output Shape              Param #   \n",
      "=================================================================\n",
      " conv2d_6 (Conv2D)           (None, 32, 32, 32)        896       \n",
      "                                                                 \n",
      " batch_normalization_11 (Bat  (None, 32, 32, 32)       128       \n",
      " chNormalization)                                                \n",
      "                                                                 \n",
      " max_pooling2d_3 (MaxPooling  (None, 16, 16, 32)       0         \n",
      " 2D)                                                             \n",
      "                                                                 \n",
      " conv2d_7 (Conv2D)           (None, 16, 16, 32)        9248      \n",
      "                                                                 \n",
      " batch_normalization_12 (Bat  (None, 16, 16, 32)       128       \n",
      " chNormalization)                                                \n",
      "                                                                 \n",
      " max_pooling2d_4 (MaxPooling  (None, 8, 8, 32)         0         \n",
      " 2D)                                                             \n",
      "                                                                 \n",
      " conv2d_8 (Conv2D)           (None, 8, 8, 32)          9248      \n",
      "                                                                 \n",
      " batch_normalization_13 (Bat  (None, 8, 8, 32)         128       \n",
      " chNormalization)                                                \n",
      "                                                                 \n",
      " max_pooling2d_5 (MaxPooling  (None, 4, 4, 32)         0         \n",
      " 2D)                                                             \n",
      "                                                                 \n",
      " dense_4 (Dense)             (None, 4, 4, 32)          1056      \n",
      "                                                                 \n",
      " dense_5 (Dense)             (None, 4, 4, 32)          1056      \n",
      "                                                                 \n",
      " up_sampling2d_3 (UpSampling  (None, 8, 8, 32)         0         \n",
      " 2D)                                                             \n",
      "                                                                 \n",
      " conv2d_transpose_5 (Conv2DT  (None, 8, 8, 32)         9248      \n",
      " ranspose)                                                       \n",
      "                                                                 \n",
      " batch_normalization_14 (Bat  (None, 8, 8, 32)         128       \n",
      " chNormalization)                                                \n",
      "                                                                 \n",
      " up_sampling2d_4 (UpSampling  (None, 16, 16, 32)       0         \n",
      " 2D)                                                             \n",
      "                                                                 \n",
      " conv2d_transpose_6 (Conv2DT  (None, 16, 16, 32)       9248      \n",
      " ranspose)                                                       \n",
      "                                                                 \n",
      " batch_normalization_15 (Bat  (None, 16, 16, 32)       128       \n",
      " chNormalization)                                                \n",
      "                                                                 \n",
      " up_sampling2d_5 (UpSampling  (None, 32, 32, 32)       0         \n",
      " 2D)                                                             \n",
      "                                                                 \n",
      " flatten_1 (Flatten)         (None, 32768)             0         \n",
      "                                                                 \n",
      " dense_6 (Dense)             (None, 128)               4194432   \n",
      "                                                                 \n",
      " dropout_1 (Dropout)         (None, 128)               0         \n",
      "                                                                 \n",
      " dense_7 (Dense)             (None, 1024)              132096    \n",
      "                                                                 \n",
      "=================================================================\n",
      "Total params: 4,367,168\n",
      "Trainable params: 4,366,848\n",
      "Non-trainable params: 320\n",
      "_________________________________________________________________\n"
     ]
    }
   ],
   "source": [
    "#Check Model\n",
    "modelCheck = tf.keras.Sequential(\n",
    "            [\n",
    "                tf.keras.layers.Conv2D(32, kernel_size=3, activation='relu', padding='same', input_shape=(image_size, image_size, 3)),\n",
    "                tf.keras.layers.BatchNormalization(),\n",
    "                tf.keras.layers.MaxPooling2D((2,2)),\n",
    "                tf.keras.layers.Conv2D(32, kernel_size=3, activation='relu', padding='same'),\n",
    "                tf.keras.layers.BatchNormalization(),\n",
    "                tf.keras.layers.MaxPooling2D((2,2)),\n",
    "                tf.keras.layers.Conv2D(32, kernel_size=3, activation='relu', padding='same'),\n",
    "                tf.keras.layers.BatchNormalization(),\n",
    "                tf.keras.layers.MaxPooling2D((2,2)),\n",
    "                tf.keras.layers.Dense(32, activation='relu'),\n",
    "                tf.keras.layers.Dense(32, activation='relu'),\n",
    "                tf.keras.layers.UpSampling2D((2,2)),\n",
    "                tf.keras.layers.Conv2DTranspose(32, kernel_size=3, activation='relu', padding='same'),\n",
    "                tf.keras.layers.BatchNormalization(),\n",
    "                tf.keras.layers.UpSampling2D((2,2)),\n",
    "                tf.keras.layers.Conv2DTranspose(32, kernel_size=3, activation='relu', padding='same'),\n",
    "                tf.keras.layers.BatchNormalization(),\n",
    "                tf.keras.layers.UpSampling2D((2,2)),\n",
    "                tf.keras.layers.Flatten(),\n",
    "                tf.keras.layers.Dense(128, activation='relu'),\n",
    "                tf.keras.layers.Dropout(.2),\n",
    "                tf.keras.layers.Dense(image_size*image_size)\n",
    "            ]\n",
    "         )\n",
    "modelCheck.summary()"
   ]
  },
  {
   "cell_type": "code",
   "execution_count": 12,
   "metadata": {
    "colab": {
     "base_uri": "https://localhost:8080/",
     "height": 448
    },
    "id": "YMLAf_wB1s2s",
    "outputId": "586eb3e2-28cb-4ce1-9d51-f0cddb40ffa2"
   },
   "outputs": [
    {
     "name": "stdout",
     "output_type": "stream",
     "text": [
      "Epoch 1, Loss: 1.08e+05, IOU - Train: 0.507 Valid: 0.483 Test: 0.502\n",
      "Epoch 2, Loss: 7.22e+04, IOU - Train: 0.517 Valid: 0.489 Test: 0.506\n",
      "Epoch 3, Loss: 7.04e+04, IOU - Train: 0.512 Valid: 0.481 Test: 0.506\n",
      "Epoch 4, Loss: 7e+04, IOU - Train: 0.516 Valid: 0.488 Test: 0.506\n",
      "Epoch 5, Loss: 7e+04, IOU - Train: 0.507 Valid: 0.472 Test: 0.506\n",
      "Epoch 6, Loss: 6.96e+04, IOU - Train: 0.515 Valid: 0.486 Test: 0.506\n",
      "Epoch 7, Loss: 6.91e+04, IOU - Train: 0.509 Valid: 0.474 Test: 0.506\n",
      "Epoch 8, Loss: 6.92e+04, IOU - Train: 0.521 Valid: 0.49 Test: 0.508\n",
      "Epoch 9, Loss: 6.84e+04, IOU - Train: 0.523 Valid: 0.487 Test: 0.508\n",
      "Epoch 10, Loss: 6.76e+04, IOU - Train: 0.535 Valid: 0.492 Test: 0.512\n",
      "Epoch 11, Loss: 6.72e+04, IOU - Train: 0.551 Valid: 0.507 Test: 0.539\n",
      "Epoch 12, Loss: 6.55e+04, IOU - Train: 0.545 Valid: 0.487 Test: 0.539\n",
      "Epoch 13, Loss: 6.47e+04, IOU - Train: 0.558 Valid: 0.499 Test: 0.539\n",
      "Epoch 14, Loss: 6.36e+04, IOU - Train: 0.562 Valid: 0.517 Test: 0.539\n",
      "Epoch 15, Loss: 6.39e+04, IOU - Train: 0.555 Valid: 0.49 Test: 0.539\n",
      "Epoch 16, Loss: 6.28e+04, IOU - Train: 0.563 Valid: 0.506 Test: 0.539\n",
      "Epoch 17, Loss: 6.22e+04, IOU - Train: 0.548 Valid: 0.476 Test: 0.539\n",
      "Epoch 18, Loss: 6.09e+04, IOU - Train: 0.584 Valid: 0.52 Test: 0.547\n",
      "Epoch 19, Loss: 5.85e+04, IOU - Train: 0.584 Valid: 0.499 Test: 0.547\n",
      "Epoch 20, Loss: 5.66e+04, IOU - Train: 0.607 Valid: 0.525 Test: 0.565\n",
      "Epoch 21, Loss: 5.51e+04, IOU - Train: 0.619 Valid: 0.527 Test: 0.565\n",
      "Epoch 22, Loss: 5.49e+04, IOU - Train: 0.614 Valid: 0.516 Test: 0.565\n",
      "Epoch 23, Loss: 5.45e+04, IOU - Train: 0.609 Valid: 0.524 Test: 0.565\n",
      "Epoch 24, Loss: 5.24e+04, IOU - Train: 0.633 Valid: 0.52 Test: 0.565\n",
      "Epoch 25, Loss: 5.12e+04, IOU - Train: 0.641 Valid: 0.531 Test: 0.568\n",
      "Epoch 26, Loss: 4.85e+04, IOU - Train: 0.642 Valid: 0.533 Test: 0.559\n",
      "Epoch 27, Loss: 4.7e+04, IOU - Train: 0.662 Valid: 0.533 Test: 0.559\n",
      "Epoch 28, Loss: 4.56e+04, IOU - Train: 0.669 Valid: 0.537 Test: 0.57\n",
      "Epoch 29, Loss: 4.4e+04, IOU - Train: 0.673 Valid: 0.537 Test: 0.57\n",
      "Epoch 30, Loss: 4.31e+04, IOU - Train: 0.686 Valid: 0.554 Test: 0.569\n",
      "Epoch 31, Loss: 4.13e+04, IOU - Train: 0.694 Valid: 0.543 Test: 0.569\n",
      "Epoch 32, Loss: 4.01e+04, IOU - Train: 0.711 Valid: 0.543 Test: 0.569\n",
      "Epoch 33, Loss: 3.94e+04, IOU - Train: 0.723 Valid: 0.558 Test: 0.584\n",
      "Epoch 34, Loss: 3.82e+04, IOU - Train: 0.727 Valid: 0.567 Test: 0.583\n",
      "Epoch 35, Loss: 3.75e+04, IOU - Train: 0.728 Valid: 0.564 Test: 0.583\n",
      "Epoch 36, Loss: 3.67e+04, IOU - Train: 0.739 Valid: 0.558 Test: 0.583\n",
      "Epoch 37, Loss: 3.49e+04, IOU - Train: 0.742 Valid: 0.553 Test: 0.583\n",
      "Epoch 38, Loss: 3.37e+04, IOU - Train: 0.75 Valid: 0.556 Test: 0.583\n",
      "Epoch 39, Loss: 3.35e+04, IOU - Train: 0.762 Valid: 0.561 Test: 0.583\n",
      "Epoch 40, Loss: 3.21e+04, IOU - Train: 0.766 Valid: 0.556 Test: 0.583\n",
      "Epoch 41, Loss: 3.16e+04, IOU - Train: 0.775 Valid: 0.559 Test: 0.583\n",
      "Epoch 42, Loss: 3.02e+04, IOU - Train: 0.788 Valid: 0.562 Test: 0.583\n",
      "Epoch 43, Loss: 3e+04, IOU - Train: 0.779 Valid: 0.554 Test: 0.583\n",
      "Epoch 44, Loss: 2.91e+04, IOU - Train: 0.791 Valid: 0.563 Test: 0.583\n",
      "Epoch 45, Loss: 2.79e+04, IOU - Train: 0.81 Valid: 0.554 Test: 0.583\n",
      "Epoch 46, Loss: 2.63e+04, IOU - Train: 0.812 Valid: 0.554 Test: 0.583\n",
      "Epoch 47, Loss: 2.5e+04, IOU - Train: 0.826 Valid: 0.559 Test: 0.583\n",
      "Epoch 48, Loss: 2.34e+04, IOU - Train: 0.833 Valid: 0.552 Test: 0.583\n",
      "Epoch 49, Loss: 2.28e+04, IOU - Train: 0.832 Valid: 0.561 Test: 0.583\n",
      "Epoch 50, Loss: 2.17e+04, IOU - Train: 0.849 Valid: 0.55 Test: 0.583\n",
      "Epoch 51, Loss: 2.08e+04, IOU - Train: 0.858 Valid: 0.567 Test: 0.583\n",
      "Epoch 52, Loss: 1.96e+04, IOU - Train: 0.859 Valid: 0.553 Test: 0.583\n",
      "Epoch 53, Loss: 1.91e+04, IOU - Train: 0.862 Valid: 0.563 Test: 0.583\n",
      "Epoch 54, Loss: 1.97e+04, IOU - Train: 0.864 Valid: 0.561 Test: 0.583\n",
      "Epoch 55, Loss: 1.98e+04, IOU - Train: 0.863 Valid: 0.552 Test: 0.583\n",
      "Epoch 56, Loss: 1.86e+04, IOU - Train: 0.877 Valid: 0.556 Test: 0.583\n",
      "Epoch 57, Loss: 1.64e+04, IOU - Train: 0.89 Valid: 0.551 Test: 0.583\n",
      "Epoch 58, Loss: 1.56e+04, IOU - Train: 0.89 Valid: 0.558 Test: 0.583\n",
      "Epoch 59, Loss: 1.56e+04, IOU - Train: 0.884 Valid: 0.556 Test: 0.583\n",
      "Epoch 60, Loss: 1.46e+04, IOU - Train: 0.9 Valid: 0.562 Test: 0.583\n",
      "Epoch 61, Loss: 1.36e+04, IOU - Train: 0.915 Valid: 0.555 Test: 0.583\n",
      "Epoch 62, Loss: 1.29e+04, IOU - Train: 0.908 Valid: 0.562 Test: 0.583\n",
      "Epoch 63, Loss: 1.3e+04, IOU - Train: 0.916 Valid: 0.561 Test: 0.583\n",
      "Epoch 64, Loss: 1.18e+04, IOU - Train: 0.918 Valid: 0.557 Test: 0.583\n",
      "Epoch 65, Loss: 1.17e+04, IOU - Train: 0.925 Valid: 0.551 Test: 0.583\n",
      "Epoch 66, Loss: 1.08e+04, IOU - Train: 0.93 Valid: 0.56 Test: 0.583\n",
      "Epoch 67, Loss: 1.02e+04, IOU - Train: 0.93 Valid: 0.558 Test: 0.583\n",
      "Epoch 68, Loss: 1.03e+04, IOU - Train: 0.929 Valid: 0.557 Test: 0.583\n",
      "Epoch 69, Loss: 9.95e+03, IOU - Train: 0.936 Valid: 0.559 Test: 0.583\n",
      "Epoch 70, Loss: 9.2e+03, IOU - Train: 0.94 Valid: 0.558 Test: 0.583\n",
      "Epoch 71, Loss: 9.29e+03, IOU - Train: 0.941 Valid: 0.552 Test: 0.583\n",
      "Epoch 72, Loss: 8.58e+03, IOU - Train: 0.946 Valid: 0.558 Test: 0.583\n",
      "Epoch 73, Loss: 7.58e+03, IOU - Train: 0.953 Valid: 0.561 Test: 0.583\n",
      "Epoch 74, Loss: 6.9e+03, IOU - Train: 0.958 Valid: 0.56 Test: 0.583\n",
      "Epoch 75, Loss: 6.72e+03, IOU - Train: 0.959 Valid: 0.558 Test: 0.583\n",
      "Epoch 76, Loss: 6.76e+03, IOU - Train: 0.953 Valid: 0.551 Test: 0.583\n",
      "Epoch 77, Loss: 6.71e+03, IOU - Train: 0.962 Valid: 0.56 Test: 0.583\n",
      "Epoch 78, Loss: 6.38e+03, IOU - Train: 0.963 Valid: 0.563 Test: 0.583\n",
      "Epoch 79, Loss: 5.83e+03, IOU - Train: 0.965 Valid: 0.567 Test: 0.576\n",
      "Epoch 80, Loss: 5.67e+03, IOU - Train: 0.968 Valid: 0.568 Test: 0.579\n",
      "Epoch 81, Loss: 5.47e+03, IOU - Train: 0.969 Valid: 0.567 Test: 0.579\n",
      "Epoch 82, Loss: 4.85e+03, IOU - Train: 0.971 Valid: 0.562 Test: 0.579\n",
      "Epoch 83, Loss: 4.61e+03, IOU - Train: 0.973 Valid: 0.565 Test: 0.579\n",
      "Epoch 84, Loss: 4.58e+03, IOU - Train: 0.975 Valid: 0.562 Test: 0.579\n",
      "Epoch 85, Loss: 4.35e+03, IOU - Train: 0.975 Valid: 0.562 Test: 0.579\n",
      "Epoch 86, Loss: 4.27e+03, IOU - Train: 0.979 Valid: 0.565 Test: 0.579\n",
      "Epoch 87, Loss: 3.83e+03, IOU - Train: 0.979 Valid: 0.563 Test: 0.579\n",
      "Epoch 88, Loss: 3.87e+03, IOU - Train: 0.977 Valid: 0.564 Test: 0.579\n",
      "Epoch 89, Loss: 4.2e+03, IOU - Train: 0.974 Valid: 0.556 Test: 0.579\n",
      "Epoch 90, Loss: 4.41e+03, IOU - Train: 0.971 Valid: 0.56 Test: 0.579\n",
      "Epoch 91, Loss: 4.44e+03, IOU - Train: 0.975 Valid: 0.557 Test: 0.579\n",
      "Epoch 92, Loss: 4.21e+03, IOU - Train: 0.979 Valid: 0.567 Test: 0.579\n",
      "Epoch 93, Loss: 3.93e+03, IOU - Train: 0.978 Valid: 0.557 Test: 0.579\n",
      "Epoch 94, Loss: 3.65e+03, IOU - Train: 0.982 Valid: 0.557 Test: 0.579\n",
      "Epoch 95, Loss: 3.19e+03, IOU - Train: 0.984 Valid: 0.566 Test: 0.579\n",
      "Epoch 96, Loss: 3.24e+03, IOU - Train: 0.982 Valid: 0.561 Test: 0.579\n",
      "Epoch 97, Loss: 3.5e+03, IOU - Train: 0.979 Valid: 0.561 Test: 0.579\n",
      "Epoch 98, Loss: 3.4e+03, IOU - Train: 0.983 Valid: 0.556 Test: 0.579\n",
      "Epoch 99, Loss: 3.08e+03, IOU - Train: 0.983 Valid: 0.552 Test: 0.579\n"
     ]
    }
   ],
   "source": [
    "#Adopt similar training loop for other problems\n",
    "\n",
    "#Originally 5000\n",
    "max_epoch = 100\n",
    "\n",
    "while epoch < max_epoch:\n",
    "    loss = 0.0\n",
    "    for batch in train_dataset:\n",
    "        xbatch = batch[:,:image_size*image_size*3]\n",
    "        ybatch = batch[:,image_size*image_size*3:]\n",
    "        xbatch = tf.cast(xbatch, tf.float32);\n",
    "        ybatch = tf.cast(ybatch, tf.float32);\n",
    "        loss += model.train_step(xbatch, ybatch);\n",
    "  \n",
    "    ydata_pred = model.predict(tf.reshape(xdata, (-1, image_size, image_size, 3 )));\n",
    "    yval_pred = model.predict(tf.reshape(xval, (-1, image_size, image_size, 3 )));\n",
    "    ytest_pred = model.predict(tf.reshape(xtest, (-1, image_size, image_size, 3 )));\n",
    "    \n",
    "    train_iou.append(iou(ydata,ydata_pred))\n",
    "    val_iou.append(iou(yval,yval_pred))\n",
    "    test_iou.append(iou(ytest,ytest_pred))\n",
    "\n",
    "    if val_iou[-1] > best_val_iou:\n",
    "        best_test_iou = test_iou[-1]\n",
    "        best_val_iou = val_iou[-1]\n",
    "        model.save_weights(\"best_model\");\n",
    "    \n",
    "  \n",
    "    print(\"Epoch {}, Loss: {:0.3}, IOU - Train: {:0.3} Valid: {:0.3} Test: {:0.3}\".format( epoch, loss.numpy(), train_iou[-1], val_iou[-1], best_test_iou))\n",
    "  \n",
    "\n",
    " \n",
    "    epoch += 1\n"
   ]
  },
  {
   "cell_type": "code",
   "execution_count": 13,
   "metadata": {},
   "outputs": [
    {
     "data": {
      "image/png": "[encoded data removed]",
      "text/plain": [
       "<Figure size 432x288 with 1 Axes>"
      ]
     },
     "metadata": {},
     "output_type": "display_data"
    },
    {
     "data": {
      "image/png": "[encoded data removed]",
      "text/plain": [
       "<Figure size 432x288 with 2 Axes>"
      ]
     },
     "metadata": {},
     "output_type": "display_data"
    }
   ],
   "source": [
    "fig, ax = plt.subplots(1,1)\n",
    "pd.Series(train_iou).plot(ax=ax)\n",
    "pd.Series(val_iou).plot(ax=ax)\n",
    "pd.Series(test_iou).plot(ax=ax)\n",
    "fig.canvas.draw()\n",
    "\n",
    "draw(xdata[0], ydata_pred[0])"
   ]
  },
  {
   "cell_type": "code",
   "execution_count": 14,
   "metadata": {
    "id": "Zwvz3uTqxuch"
   },
   "outputs": [],
   "source": [
    "model.load_weights(\"best_model\")\n",
    "ypred = model.predict(tf.reshape(xtest, (-1, image_size, image_size, 3 )));"
   ]
  },
  {
   "cell_type": "code",
   "execution_count": 15,
   "metadata": {
    "colab": {
     "base_uri": "https://localhost:8080/",
     "height": 183
    },
    "id": "WrsVhY_t6z10",
    "outputId": "57179680-9edf-4ba2-e30e-2082a254ed63"
   },
   "outputs": [
    {
     "data": {
      "image/png": "[encoded data removed]",
      "text/plain": [
       "<Figure size 432x288 with 2 Axes>"
      ]
     },
     "metadata": {},
     "output_type": "display_data"
    },
    {
     "data": {
      "image/png": "[encoded data removed]",
      "text/plain": [
       "<Figure size 432x288 with 2 Axes>"
      ]
     },
     "metadata": {},
     "output_type": "display_data"
    },
    {
     "data": {
      "image/png": "[encoded data removed]",
      "text/plain": [
       "<Figure size 432x288 with 2 Axes>"
      ]
     },
     "metadata": {},
     "output_type": "display_data"
    }
   ],
   "source": [
    "draw(xtest[10], ypred[10])\n",
    "draw(xtest[25], ypred[25])\n",
    "draw(xtest[20], ypred[20])"
   ]
  },
  {
   "cell_type": "code",
   "execution_count": 16,
   "metadata": {
    "colab": {
     "base_uri": "https://localhost:8080/",
     "height": 34
    },
    "id": "NYVK9ttn7h1Q",
    "outputId": "6dd69004-b9ab-44c0-979a-f5db71c6a69c"
   },
   "outputs": [
    {
     "data": {
      "text/plain": [
       "0.5794338402510538"
      ]
     },
     "execution_count": 16,
     "metadata": {},
     "output_type": "execute_result"
    }
   ],
   "source": [
    "iou(ytest, ypred)"
   ]
  },
  {
   "cell_type": "code",
   "execution_count": null,
   "metadata": {},
   "outputs": [],
   "source": []
  }
 ],
 "metadata": {
  "colab": {
   "collapsed_sections": [],
   "name": "horses.ipynb",
   "provenance": []
  },
  "kernelspec": {
   "display_name": "Python 3 (ipykernel)",
   "language": "python",
   "name": "python3"
  },
  "language_info": {
   "codemirror_mode": {
    "name": "ipython",
    "version": 3
   },
   "file_extension": ".py",
   "mimetype": "text/x-python",
   "name": "python",
   "nbconvert_exporter": "python",
   "pygments_lexer": "ipython3",
   "version": "3.9.7"
  }
 },
 "nbformat": 4,
 "nbformat_minor": 4
}
